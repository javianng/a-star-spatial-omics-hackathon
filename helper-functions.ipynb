{
 "cells": [
  {
   "cell_type": "code",
   "execution_count": 1,
   "id": "0e98a010",
   "metadata": {},
   "outputs": [
    {
     "name": "stderr",
     "output_type": "stream",
     "text": [
      "/Users/chengjunyuan/miniconda3/lib/python3.10/site-packages/pandas/core/arrays/masked.py:60: UserWarning: Pandas requires version '1.3.6' or newer of 'bottleneck' (version '1.3.5' currently installed).\n",
      "  from pandas.core import (\n"
     ]
    }
   ],
   "source": [
    "import os.path as path\n",
    "from pathlib import Path\n",
    "import pandas as pd\n",
    "import scipy.io\n",
    "import gzip\n",
    "import csv\n",
    "import os\n",
    "from PIL import Image\n",
    "\n",
    "Image.MAX_IMAGE_PIXELS = None\n",
    "\n",
    "hr_path = \"CytAssist_11mm_FFPE_Human_Ovarian_Carcinoma_tissue_image.tif\"\n",
    "dotpath = \"spatial/tissue_positions.csv\"\n",
    "\n",
    "def truncated_dot_data(filepath):\n",
    "    dotdf = pd.read_csv(filepath)\n",
    "    filtered_dotdf = dotdf[dotdf['in_tissue'] != 0]\n",
    "    filtered_dotdf.reset_index(drop=True, inplace=True)\n",
    "    return filtered_dotdf\n",
    "\n",
    "def make_10_crops(hr_path, tissue_positions_path):\n",
    "    tissue_data = truncated_dot_data(tissue_positions_path)\n",
    "    img = Image.open(hr_path)\n",
    "    crops = []\n",
    "    for i in range(10):\n",
    "        x = tissue_data.at[tissue_data.index[i],'pxl_col_in_fullres']\n",
    "        y = tissue_data.at[tissue_data.index[i],'pxl_row_in_fullres']\n",
    "        new_image = img.crop((x - 110, y - 110, x + 110, y + 110))\n",
    "        crops.append(new_image)\n",
    "    \n",
    "    notebook_dir = os.path.dirname(os.path.abspath(\"__file__\"))\n",
    "        \n",
    "    return crops\n",
    "\n",
    "def save_images(folder_name, images):\n",
    "    output_folder = folder_name\n",
    "    \n",
    "    if not os.path.exists(output_folder):\n",
    "        os.makedirs(output_folder)\n",
    "        \n",
    "    for i, image in enumerate(images):\n",
    "        image_path = os.path.join(output_folder, f\"image_{i}.tif\")  # Example: image_0.jpg, image_1.jpg, ...\n",
    "        image.save(image_path)\n",
    "        \n",
    "def process_fbc_matrix():\n",
    "    cd = Path(path.abspath(\"\"))\n",
    "    matrix_dir_path = os.path.join(cd, \"filtered_feature_bc_matrix\")\n",
    "    mat_filtered = scipy.io.mmread(path.join(matrix_dir_path, \"matrix.mtx.gz\"))\n",
    "\n",
    "    # list of transcript ids, e.g. 'ENSG00000187634'\n",
    "    features_path = path.join(matrix_dir_path, \"features.tsv.gz\")\n",
    "    feature_ids = [row[0]  for row  in csv.reader(gzip.open(features_path, mode=\"rt\"), delimiter=\"\\t\")]\n",
    "\n",
    "    # list of gene names, e.g. 'SAMD11'\n",
    "    gene_names = [row[1]  for row  in csv.reader(gzip.open(features_path, mode=\"rt\"), delimiter=\"\\t\")]\n",
    "\n",
    "    # list of feature_types, e.g. 'Gene Expression'\n",
    "    feature_types = [row[2]  for row  in csv.reader(gzip.open(features_path, mode=\"rt\"), delimiter=\"\\t\")]\n",
    "\n",
    "    # list of barcodes, e.g. 'AAACATACAAAACG-1'\n",
    "    barcodes_path = os.path.join(matrix_dir_path, \"barcodes.tsv.gz\")\n",
    "    barcodes = [row[0]  for row  in csv.reader(gzip.open(barcodes_path, mode=\"rt\"), delimiter=\"\\t\")]\n",
    "    \n",
    "    fbc_matrix = pd.DataFrame.sparse.from_spmatrix(mat_filtered)\n",
    "    fbc_matrix.columns = barcodes\n",
    "    fbc_matrix.insert(loc=0, column=\"feature_id\", value=feature_ids)\n",
    "    fbc_matrix.insert(loc=1, column=\"gene\", value=gene_names)\n",
    "    fbc_matrix.insert(loc=2, column=\"feature_type\", value=feature_types)\n",
    "    return fbc_matrix"
   ]
  },
  {
   "cell_type": "code",
   "execution_count": null,
   "id": "9b158786",
   "metadata": {},
   "outputs": [],
   "source": [
    "hr_path = \"CytAssist_11mm_FFPE_Human_Ovarian_Carcinoma_tissue_image.tif\"\n",
    "dotpath = \"spatial/tissue_positions.csv\"\n",
    "\n",
    "yok = make_10_crops(hr_path, dotpath)\n",
    "save_images(\"yok\", yok)\n",
    "\n",
    "fbc_mat = process_fbc_matrix()\n",
    "fbc_mat"
   ]
  }
 ],
 "metadata": {
  "kernelspec": {
   "display_name": "Python 3 (ipykernel)",
   "language": "python",
   "name": "python3"
  },
  "language_info": {
   "codemirror_mode": {
    "name": "ipython",
    "version": 3
   },
   "file_extension": ".py",
   "mimetype": "text/x-python",
   "name": "python",
   "nbconvert_exporter": "python",
   "pygments_lexer": "ipython3",
   "version": "3.10.8"
  },
  "varInspector": {
   "cols": {
    "lenName": 16,
    "lenType": 16,
    "lenVar": 40
   },
   "kernels_config": {
    "python": {
     "delete_cmd_postfix": "",
     "delete_cmd_prefix": "del ",
     "library": "var_list.py",
     "varRefreshCmd": "print(var_dic_list())"
    },
    "r": {
     "delete_cmd_postfix": ") ",
     "delete_cmd_prefix": "rm(",
     "library": "var_list.r",
     "varRefreshCmd": "cat(var_dic_list()) "
    }
   },
   "types_to_exclude": [
    "module",
    "function",
    "builtin_function_or_method",
    "instance",
    "_Feature"
   ],
   "window_display": false
  }
 },
 "nbformat": 4,
 "nbformat_minor": 5
}
